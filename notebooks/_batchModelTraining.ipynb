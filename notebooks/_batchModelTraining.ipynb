{
 "cells": [
  {
   "cell_type": "markdown",
   "metadata": {},
   "source": [
    "### Logging"
   ]
  },
  {
   "cell_type": "code",
   "execution_count": 2,
   "metadata": {},
   "outputs": [],
   "source": [
    "import logging\n",
    "#logging.getLogger('').handlers = []  #To delete previous logging configuration\n",
    "\n",
    "logging.basicConfig(\n",
    "    format='%(asctime)s : %(levelname)s : %(message)s', level=logging.INFO,\n",
    "    #If log into standard output and to a file is desired:\n",
    "    #handlers=[logging.FileHandler(\"{0}/{1}.log\".format('./', uniName)), #path, File name\n",
    "    #         logging.StreamHandler()]\n",
    ")"
   ]
  },
  {
   "cell_type": "markdown",
   "metadata": {},
   "source": [
    "# Batch Model Training"
   ]
  },
  {
   "cell_type": "code",
   "execution_count": 1,
   "metadata": {},
   "outputs": [],
   "source": [
    "import os\n",
    "#from word2vecTraining import preprocessing, training, evaluation\n",
    "\n",
    "# Where Text Corpus is located\n",
    "inputPath = os.path.normpath(r'D:\\data\\nyt') \n",
    "#inputPath = os.path.normpath(r'.') \n",
    "\n",
    "# Get all CSV Text Corpus files In target Path\n",
    "#onlyfiles = [f for f in listdir(inputPath) if isfile(join(inputPath, f)) and f.endswith('.csv')]\n",
    "#onlyfiles = onlyfiles[:2] #For testing\n",
    "# print(onlyfiles)\n",
    "# len(onlyfiles)\n",
    "\n",
    "#Where output word2vec models will be stored\n",
    "outputPath = os.path.normpath(r'D:\\data\\nyt\\word2vecModels') #\\ to \\\\\n",
    "#outputPath = os.path.normpath(r'.\\models') "
   ]
  },
  {
   "cell_type": "markdown",
   "metadata": {},
   "source": [
    "## Preprocessing"
   ]
  },
  {
   "cell_type": "code",
   "execution_count": 4,
   "metadata": {},
   "outputs": [],
   "source": [
    "import re\n",
    "import csv\n",
    "import time\n",
    "from gensim.parsing.preprocessing import * #provides a number of convenience preprocessing functions optimized for speed\n",
    "from gensim.models.word2vec import Word2Vec\n",
    "import gensim\n",
    "from multiprocessing import cpu_count\n",
    "\n",
    "\n",
    "\n",
    "\n",
    "def preprocessing(file):\n",
    "\n",
    "    CUSTOM_FILTERS = [lambda x: x.lower(), #To lowercase\n",
    "                      lambda text: re.sub(r'https?:\\/\\/.*\\s', '', text, flags=re.MULTILINE), #To Strip away URLs\n",
    "                      #split_alphanum, #Add spaces between digits & letters in s using RE_AL_NUM.\n",
    "                      strip_tags, #Remove tags from s using RE_TAGS.\n",
    "                      strip_non_alphanum,#Remove non-alphabetic characters from s using RE_NONALPHA.\n",
    "                      strip_punctuation, #Replace punctuation characters with spaces in s using RE_PUNCT.\n",
    "                      strip_numeric, #Remove digits from s using RE_NUMERIC.\n",
    "                      strip_multiple_whitespaces,#Remove repeating whitespace characters (spaces, tabs, line breaks) from s and turns tabs & line breaks into spaces using RE_WHITESPACE.\n",
    "                      remove_stopwords, # Set of 339 stopwords from Stone, Denis, Kwantes (2010).\n",
    "                      #lambda x:\" \".join(w for w in x.split() if w not in stopword_file) #Custom stopwords\n",
    "                      lambda x: strip_short(x, minsize=3), #Remove words with length lesser than minsize from s.\n",
    "                      #stem_text #Transform s into lowercase and stem it.\n",
    "                     ]\n",
    "\n",
    "    tic = time.time() # Start timing\n",
    "\n",
    "\n",
    "    csv.field_size_limit(2147483647)\n",
    "    #csv.field_size_limit(sys.maxsize)\n",
    "    #Option 1: split paragraphs Into  sentences\n",
    "    with open(file,'r', newline='',encoding=\"utf-8\") as inpFile:\n",
    "\n",
    "        csvObject = csv.reader(inpFile, delimiter=',',quotechar='\"')\n",
    "\n",
    "        wordThreshold=5 #Important: filter out sentences with less than wordThreshold words\n",
    "\n",
    "        sentences = []\n",
    "        for csvEntry in csvObject:\n",
    "            if len(csvEntry)>1:\n",
    "                #IMPORTANT: If all of your sentences have been loaded as one sentence, Word2vec training could take a very long time.\n",
    "                #That’s because Word2vec is a sentence-level algorithm, so sentence boundaries are very important, because\n",
    "                #co-occurrence statistics are gathered sentence by sentence. For many corpora, average sentence length is six words.\n",
    "                #That means that with a window size of 5 you have, say, 30 (random number here) rounds of skip-gram calculations.\n",
    "                #If you forget to specify your sentence boundaries, you may load a “sentence” that’s 10,000 words long.\n",
    "                #In that case, Word2vec would attempt a full skip-gram cycle for the whole 10,000-word “sentence”. Hence, I split\n",
    "                #the CSV entries By paragraphs '\\n\n",
    "                lines = csvEntry[0].split('\\n') #csvEntry[0] is url csvEntry[1] is text Fetched from URL\n",
    "\n",
    "                for line in lines: #Different elements appear in their own line\n",
    "                    words = preprocess_string(line,CUSTOM_FILTERS)\n",
    "\n",
    "                    if len(words)>wordThreshold: #Important: filter out sentences with less than wordThreshold words\n",
    "                        sentences.append(words)\n",
    "\n",
    "    toc = time.time() # Start timing\n",
    "    computationTime = toc-tic\n",
    "\n",
    "    print(\"Reading Corpus file and preprocessing time:\" +str(computationTime)+\" seconds\")\n",
    "\n",
    "    print(\" printing Top 2 and last sentences For sanity check\")\n",
    "    for i, s in enumerate(sentences[0:2]):\n",
    "        print(i,s)\n",
    "    print(len(sentences),sentences[-1])\n",
    "\n",
    "    print(\" stats about Corpus read from file\")\n",
    "    wordsInCorpus = 0\n",
    "    for i, s in enumerate(sentences):\n",
    "        wordsInCorpus += len(s)\n",
    "    print(\"Number of words in corpus:\",wordsInCorpus)\n",
    "    print(\"Number of sentences in corpus:\",len(sentences))\n",
    "    #for i, s in enumerate(sentences[0:30]):\n",
    "    #    print(i,s)\n",
    "    return sentences\n",
    "\n",
    "def training(sentences):\n",
    "    #Training the model\n",
    "    tic = time.time() # Start timing\n",
    "\n",
    "    #For the Score method to work hs And negative Parameters need to be specified\n",
    "    #A good heuristic For Word vectors dimensions `size` thats frequently used is the square-root of the length of the vocabulary, after pre-processing\n",
    "\n",
    "    model = Word2Vec(sentences, # The sentences iterable can be simply a list of lists of tokens, but for larger corpora, consider an iterable that streams the sentences directly from disk/network\n",
    "                     sg=0, #Defines the training algorithm. If 1, skip-gram is employed; otherwise, CBOW is used\n",
    "                     size=300,#Dimensionality of the feature vectors\n",
    "                     window=10,# The maximum distance between the current and predicted word within a sentence\n",
    "                     min_count=5, #Ignores all words with total frequency lower than this\n",
    "                     workers=cpu_count()-6, #Use these many worker threads to train the model (=faster training with multicore machines).\n",
    "                     hs = 0, # int {1,0}) – If 1, hierarchical softmax will be used for model training. If set to 0, and negative is non-zero, negative sampling will be used.\n",
    "                     negative = 10, # If > 0, negative sampling will be used, specifies how many “noise words” should be drawn (usually between 5-20). If set to 0, no negative sampling is used.\n",
    "                     sample = 0.001, # The threshold for configuring which higher-frequency words are randomly downsampled, useful range is (0, 1e-5).\n",
    "                     iter = 5, # (int) – Number of iterations (epochs) over the corpus. //5\n",
    "                    )\n",
    "\n",
    "    toc = time.time() # Start timing\n",
    "    computationTime = toc-tic\n",
    "    print(\"Computing time for training the model:\" +str(computationTime)+\" seconds\")\n",
    "    wordsInCorpus = sum([len(l) for l in sentences])\n",
    "    print(\"Number of words processed per second:\",wordsInCorpus/computationTime)\n",
    "    print(model)\n",
    "    print(\"Most frequent words In model: \", model.wv.index2word[:10])\n",
    "\n",
    "    return model"
   ]
  },
  {
   "cell_type": "code",
   "execution_count": 5,
   "metadata": {},
   "outputs": [
    {
     "name": "stdout",
     "output_type": "stream",
     "text": [
      "starting the processing of 1984\n",
      "Reading Corpus file and preprocessing time:61.15896129608154 seconds\n",
      " printing Top 2 and last sentences For sanity check\n",
      "0 ['women', 'long', 'role', 'models', 'road', 'equality', 'acquired', 'share', 'heroes', 'year', 'woman', 'run', 'vice', 'presidency', 'ticket', 'major', 'party', 'american', 'woman', 'walk', 'space', 'team', 'american', 'female', 'athletes', 'ran', 'swam', 'cycled', 'somersaulted', 'dribbled', 'basketballs', 'competed', 'win', 'gold', 'medals', 'summer', 'olympics', 'risks', 'taken', 'women', 'barriers', 'broken', 'victories', 'savored', 'political', 'defeats', 'suffered', 'visible', 'seeing', 'faces', 'television', 'tremendous', 'high', 'said', 'joanne', 'finney', 'brooklyn', 'radiologist', 'speaking', 'geraldine', 'ferraro', 'democratic', 'candidate', 'kathryn', 'sullivan', 'astronaut', 'joan', 'benoit', 'winner', 'olympic', 'women', 'marathon', 'felt', 'good', 'women', 'taking', 'chances', 'sweating', 'going', 'said', 'won', 'winners', 'miss', 'benoit', 'said', 'women', 'athletes', 'remarkably', 'year', 'women', 'overcome', 'obstacles', 'conflicts', 'want', 'finally', 'recognized', 'losers', 'mrs', 'ferraro', 'said', 'run', 'vice', 'president', 'run', 'president', 'know', 'win', 'right', 'away', 'sure', 'heck', 'credible', 'candidates', 'women', 'united', 'states', 'senate', 'paula', 'hawkins', 'said', 'people', 'aware', 'talent', 'tenacity', 'serve', 'women', 'ran', 'senate', 'treated', 'seriously', 'having', 'woman', 'national', 'ticket', 'wonderful', 'advancement', 'advances', 'outside', 'politics', 'republican', 'senator', 'florida', 'said', 'happy', 'anna', 'fisher', 'american', 'mother', 'space', 'people', 'scientists', 'mrs', 'hawkins', 'said', 'woman', 'relate', 'woman', 'accommodate', 'family', 'husband', 'children', 'space', 'trails', 'blazed', 'progress', 'women', 'rights', 'mixed', 'year', 'according', 'review', 'major', 'advances', 'setbacks', 'legal', 'defense', 'education', 'fund', 'sober', 'women', 'gains', 'said', 'stephanie', 'clohesy', 'executive', 'director', 'fund', 'realize', 'real', 'performance', 'victories', 'athletes', 'astronauts', 'ferraro', 'nomination', 'victories', 'payoff', 'years', 'incredible', 'investment', 'political', 'process', 'legal', 'process', 'concerned', 'women', 'bad', 'news', 'seeing', 'tap', 'turned', 'women', 'support', 'scholarship', 'strongest', 'taps', 'title', 'education', 'act', 'prohibits', 'sex', 'discrimination', 'schools', 'receiving', 'federal', 'aid', 'provided', 'support', 'scholarships', 'female', 'athletes', 'february', 'united', 'states', 'supreme', 'court', 'ruled', 'title', 'applies', 'departments', 'programs', 'school', 'directly', 'receive', 'federal', 'funds', 'entire', 'institution', 'ruling', 'exempt', 'equal', 'opportunity', 'laws', 'sports', 'educational', 'programs', 'october', 'civil', 'rights', 'act', 'restored', 'cuts', 'lost', 'title', 'ruling', 'died', 'filibuster', 'senate', 'irony', 'society', 'cheers', 'olympic', 'women', 'cuts', 'support', 'women', 'sports', 'lost', 'athletes', 'like', 'joan', 'benoit', 'wasn', 'title', 'marathoner', 'said', 'run', 'north', 'carolina', 'state', 'scholarship', 'like', 'dangling', 'carrot', 'rabbit', 'said', 'praising', 'victories', 'drying', 'money', 'continuity', 'funds', 'given', 'women', 'athletes', 'hand', 'female', 'lawmakers', 'capitol', 'hill', 'comfort', 'hardly', 'credit', 'new', 'laws', 'dealing', 'special', 'economic', 'problems', 'women', 'retirement', 'equity', 'act', 'makes', 'easier', 'widowed', 'spouses', 'collect', 'retirement', 'benefits', 'private', 'pension', 'plans', 'child', 'support', 'enforcement', 'amendment', 'requires', 'mandatory', 'deductions', 'workers', 'paychecks', 'cover', 'child', 'support', 'obligations', 'law', 'applies', 'mothers', 'fathers', 'percent', 'parents', 'default', 'payments', 'men', 'legislatively', 'said', 'representative', 'patricia', 'schroeder', 'democrat', 'colorado', 'got', 'years', 'representative', 'olympia', 'snowe', 'maine', 'republican', 'headed', 'congressional', 'caucus', 'women', 'issues', 'male', 'colleagues', 'aware', 'needs', 'voting', 'power', 'women', 'think', 'guilt', 'turned', 'equal', 'rights', 'amendment', 'said', 'representative', 'schroeder', 'explaining', 'legislative', 'gains', 'women', 'afraid', 'gender', 'gap', 'advances', 'cited', 'legal', 'defense', 'education', 'fund', 'admission', 'women', 'members', 'united', 'states', 'jaycees', 'year', 'million', 'dollar', 'lawsuit', 'resolved', 'united', 'states', 'supreme', 'court', 'admission', 'women', 'rabbinical', 'students', 'jewish', 'theological', 'seminary', 'ruling', 'united', 'states', 'supreme', 'court', 'law', 'firms', 'discriminate', 'deciding', 'lawyers', 'promote', 'partners', 'ruling', 'pennsylvania', 'supreme', 'court', 'state', 'equal', 'rights', 'amendment', 'bars', 'use', 'sex', 'based', 'tables', 'setting', 'automobile', 'insurance', 'rates', 'formation', 'national', 'black', 'women', 'political', 'caucus', 'politics', 'supposed', 'year', 'woman', 'turn', 'way', 'women', 'record', 'number', 'ran', 'senate', 'lost', 'incumbent', 'senator', 'nancy', 'landon', 'kassebaum', 'kansas', 'female', 'incumbents', 'house', 'won', 'election', 'female', 'challengers', 'house', 'seats', 'elected', 'carol', 'bellamy', 'president', 'city', 'council', 'new', 'york', 'increased', 'percent', 'number', 'women', 'governors', 'elected', 'governor', 'vermont', 'madeleine', 'kunin', 'democrat', 'rode', 'victory', 'vermont', 'point', 'gender', 'gap', 'state', 'female', 'governor', 'rhode', 'island', 'arlene', 'violet', 'republican', 'nun', 'elected', 'attorney', 'general', 'woman', 'country', 'hold', 'office', 'outside', 'voting', 'booths', 'women', 'rights', 'advocates', 'cited', 'major', 'setbacks', 'fires', 'bombings', 'arson', 'attacks', 'occurred', 'abortion', 'clinics', 'cities', 'vatican', 'threatened', 'expel', 'american', 'nuns', 'retracted', 'statements', 'abortion', 'proposal', 'end', 'sex', 'discrimination', 'insurance', 'gutted', 'house', 'committee', 'industry', 'lobbied', 'poverty', 'rates', 'rose', 'percent', 'women', 'comprising', 'percent', 'poor', 'wage', 'gap', 'stuck', 'percent', 'women', 'earning', 'average', 'year', 'men', 'year', 'ended', 'women', 'comprised', 'roughly', 'percent', 'labor', 'force', 'remained', 'pink', 'collar', 'ghetto', 'low', 'paying', 'clerical', 'sales', 'service', 'factory', 'jobs', 'rand', 'corporation', 'predicted', 'women', 'wages', 'general', 'percent', 'men', 'year', 'year', 'ended', 'jeane', 'kirkpatrick', 'chief', 'united', 'states', 'delegate', 'united', 'nations', 'told', 'meeting', 'women', 'forum', 'new', 'york', 'sexism', 'alive', 'alive', 'united', 'nations', 'alive', 'government', 'bipartisan', 'sexism', 'unconquerable', 'kirkpatrick', 'said', 'avoid', 'getting', 'angry', 'wasting', 'energy', 'rage']\n",
      "1 ['oscar', 'wyatt', 'chairman', 'chief', 'executive', 'coastal', 'corporation', 'houston', 'wants', 'acquire', 'natural', 'gas', 'pipeline', 'company', 'operates', 'texas', 'looks', 'like', 'fight', 'hard', 'wyatt', 'current', 'target', 'houston', 'natural', 'gas', 'corporation', 'meet', 'goal', 'better', 'company', 'analysts', 'subsidiary', 'coastal', 'offering', 'buy', 'percent', 'houston', 'natural', 'gas', 'common', 'stock', 'share', 'billion', 'offer', 'late', 'week', 'wyatt', 'controlling', 'coastal', 'owns', 'slightly', 'percent', 'company', 'houston', 'natural', 'gas', 'fighting', 'takeover', 'attempt', 'turned', 'tables', 'coastal', 'yesterday', 'announcing', 'share', 'offer', 'buy', 'nearly', 'million', 'shares', 'wyatt', 'company', 'wyatt', 'frustrated', 'year', 'coastal', 'tried', 'acquire', 'texas', 'gas', 'resources', 'corporation', 'outbid', 'heated', 'battle', 'csx', 'corporation', 'founding', 'coastal', 'years', 'ago', 'age', 'wyatt', 'succeeded', 'building', 'integrated', 'oil', 'company', 'billion', 'assets', 'interests', 'interstate', 'gas', 'transmission', 'coal', 'oil', 'exploration', 'trading', 'refining', 'wyatt', 'considered', 'industry', 'aggressive', 'risk', 'takers', 'achieved', 'rapid', 'growth', 'committing', 'coastal', 'pipelines', 'sell', 'low', 'priced', 'natural', 'gas', 'volumes', 'turned', 'supply', 'ability', 'severe', 'winter', 'coastal', 'unable', 'meet', 'supply', 'obligations', 'buy', 'large', 'volumes', 'higher', 'priced', 'gas', 'pipelines', 'coastal', 'passed', 'higher', 'costs', 'customers', 'buyers', 'sued', 'seeking', 'refunds', 'totaling', 'billion', 'litigation', 'settled', 'court', 'coastal', 'spin', 'pipelines', 'effectively', 'removing', 'wyatt', 'lucrative', 'unregulated', 'texas', 'intrastate', 'gas', 'market', 'takeover', 'houston', 'natural', 'gas', 'business']\n",
      "86911 ['congressional', 'committee', 'today', 'took', 'step', 'enacting', 'legislation', 'effect', 'supreme', 'court', 'decision', 'holding', 'illegal', 'pay', 'smaller', 'monthly', 'pensions', 'women', 'men', 'house', 'energy', 'commerce', 'committee', 'reported', 'mandated', 'equal', 'pension', 'insurance', 'benefits', 'women', 'years', 'final', 'passage', 'measure', 'panel', 'voice', 'vote', 'omitted', 'requirement', 'equality', 'retroactive', 'insurance', 'industry', 'billions', 'dollars', 'annuities', 'force', 'lobbied', 'retroactivity', 'provision', 'representative', 'norman', 'lent', 'republican', 'long', 'island', 'sponsor', 'adopted', 'measure', 'said', 'retroactivity', 'cost', 'large', 'public', 'pension', 'plans', 'billion', 'cost', 'new', 'york', 'city', 'new', 'york', 'state', 'city', 'teacher', 'pension', 'plan', 'surpassed', 'billion', 'said', 'lent', 'measure', 'sponsored', 'representative', 'wayne', 'dowdy', 'democrat', 'mississippi', 'offered', 'opposition', 'forward', 'democratic', 'leadership', 'committee', 'losing', 'version', 'sponsored', 'representatives', 'john', 'dingell', 'michigan', 'chairman', 'committee', 'james', 'florio', 'new', 'jersey', 'chairman', 'panel', 'subcommittee', 'deals', 'insurance', 'matters', 'barbara', 'mikulski', 'maryland', 'lent', 'said', 'predict', 'law', 'year', 'uncertainties', 'house', 'senate', 'action', 'chance', 'won', 'floor', 'said', 'arizona', 'governing', 'committee', 'norris', 'supreme', 'court', 'ruled', 'summer', 'retirement', 'plans', 'calculate', 'woman', 'pension', 'benefits', 'differently', 'man', 'women', 'live', 'longer', 'men', 'pension', 'funds', 'insurance', 'companies', 'traditionally', 'paid', 'lower', 'monthly', 'benefits', 'women', 'payments', 'longer', 'time', 'version', 'lent', 'said', 'pensions', 'insurance', 'policies', 'issued', 'single', 'standard', 'combine', 'actuarial', 'experiences', 'men', 'women', 'affect', 'pension', 'plans', 'women', 'effect', 'time', 'woman', 'worked', 'years', 'old', 'schedule', 'called', 'lower', 'pension', 'rates', 'women', 'years', 'new', 'called', 'unisex', 'schedule', 'tenths', 'pension', 'calculated', 'old', 'rates', 'tenth', 'new', 'estimated', 'women', 'living', 'pensions', 'affected', 'legislation', 'supreme', 'court', 'decision', 'today', 'committee', 'action', 'applied', 'pensions', 'earned', 'future']\n",
      " stats about Corpus read from file\n",
      "Number of words in corpus: 22584007\n",
      "Number of sentences in corpus: 86911\n"
     ]
    },
    {
     "name": "stdout",
     "output_type": "stream",
     "text": [
      "Computing time for training the model:102.06591749191284 seconds\n",
      "Number of words processed per second: 221268.83836408405\n",
      "Word2Vec(vocab=83491, size=300, alpha=0.025)\n",
      "Most frequent words In model:  ['said', 'new', 'year', 'years', 'percent', 'president', 'york', 'million', 'time', 'people']\n",
      " similarity evaluation: ((0.574472005049634, 3.694875638649784e-31), SpearmanrResult(correlation=0.5956204217495568, pvalue=6.282775383672726e-34), 3.9660056657223794)\n"
     ]
    },
    {
     "name": "stderr",
     "output_type": "stream",
     "text": [
      "c:\\python3\\lib\\site-packages\\gensim\\matutils.py:737: FutureWarning: Conversion of the second argument of issubdtype from `int` to `np.signedinteger` is deprecated. In future, it will be treated as `np.int32 == np.dtype(int).type`.\n",
      "  if np.issubdtype(vec.dtype, np.int):\n",
      "c:\\python3\\lib\\site-packages\\ipykernel_launcher.py:15: DeprecationWarning: Call to deprecated `accuracy` (Method will be removed in 4.0.0, use self.evaluate_word_analogies() instead).\n",
      "  from ipykernel import kernelapp as app\n"
     ]
    },
    {
     "name": "stdout",
     "output_type": "stream",
     "text": [
      "----------------------------------------------------\n",
      "starting the processing of 1983\n",
      "Reading Corpus file and preprocessing time:58.68063259124756 seconds\n",
      " printing Top 2 and last sentences For sanity check\n",
      "0 ['room', 'christopher', 'gruhn', 'classrooms', 'agnes', 'cathedral', 'elementary', 'school', 'morning', 'sound', 'sniffling', 'mixed', 'rain', 'pounding', 'windows', 'particularly', 'sad', 'place', 'discuss', 'murder', 'christopher', 'gruhn', 'michael', 'glaubinger', 'chief', 'security', 'rockville', 'centre', 'roman', 'catholic', 'diocese', 'told', 'children', 'tugged', 'nervously', 'school', 'uniforms', 'lot', 'sick', 'people', 'chris', 'death', 'reality', 'glaubinger', 'spent', 'morning', 'going', 'room', 'room', 'agnes', 'describing', 'briefly', 'students', 'stabbing', 'year', 'old', 'eighth', 'grader', 'killed', 'newspaper', 'delivery', 'route', 'sunday', 'morning', 'classroom', 'glaubinger', 'ended', 'asking', 'chris', 'classmates', 'questions', 'boys', 'raised', 'hands', 'girls', 'stop', 'crying', 'different', 'stories', 'going', 'school', 'chris', 'murder', 'said', 'seventh', 'grader', 'sitting', 'room', 'tell', 'happened', 'said', 'chief', 'security', 'knows', 'police', 'admit', 'leads', 'murder', 'took', 'place', 'blocks', 'brick', 'suburban', 'ranchhouse', 'gruhn', 'family', 'lives', 'today', 'police', 'said', 'indications', 'attack', 'sexual', 'leslie', 'lukash', 'nassau', 'county', 'chief', 'medical', 'examiner', 'said', 'days', 'tests', 'confirm', 'wounds', 'lukash', 'said', 'ferocious', 'base', 'violent', 'murder', 'shocked', 'middle', 'upper', 'middle', 'class', 'neighborhoods', 'rockville', 'centre', 'police', 'low', 'crime', 'area', 'averaging', 'murder', 'years', 'business', 'leaders', 'diocese', 'privately', 'offered', 'contribute', 'reward', 'money', 'according', 'glaubinger', 'decision', 'said', 'offer', 'reward', 'area', 'christopher', 'delivering', 'sunday', 'issue', 'newsday', 'filled', 'primarily', 'large', 'family', 'brick', 'homes', 'surrounded', 'grand', 'old', 'twisting', 'trees', 'orange', 'blue', 'nassau', 'county', 'police', 'bus', 'parked', 'today', 'merrick', 'road', 'boarded', 'gasoline', 'station', 'murder', 'took', 'place', 'body', 'shoppng', 'cart', 'undelivered', 'newspapers', 'sunday', 'police', 'inquiries', 'indicated', 'chris', 'sort', 'boy', 'want', 'son', 'detective', 'john', 'nolan', 'said', 'dependable', 'kind', 'paper', 'boy', 'paper', 'sunday', 'weeks', 'weeks', 'teachers', 'described', 'mild', 'mannered', 'behaved', 'student', 'average', 'traditional', 'school', 'grade', 'attended', 'agnes', 'school', 'reputation', 'warm', 'robust', 'traditional', 'roman', 'catholic', 'elementary', 'school', 'largest', 'diocese', 'covers', 'long', 'island', 'agnes', 'girls', 'outfitted', 'green', 'plaid', 'skirts', 'knee', 'socks', 'boys', 'wear', 'dress', 'shirts', 'ties', 'kindergartners', 'excused', 'dress', 'code', 'school', 'filled', 'students', 'learned', 'shout', 'unison', 'soon', 'assistant', 'principal', 'good', 'morning', 'miss', 'newman', 'helen', 'newman', 'replies', 'good', 'morning', 'boys', 'girls', 'renewed', 'routine', 'chris', 'death', 'affected', 'said', 'sister', 'kathleen', 'carlin', 'principal', 'school', 'decorated', 'green', 'paper', 'shamrocks', 'preaches', 'charity', 'fellow', 'man', 'agnes', 'period', 'collecting', 'good', 'cause', 'lately', 'bringing', 'canned', 'foods', 'poor', 'memorial', 'plaque', 'hung', 'project', 'said', 'principal', 'hanging', 'permanent', 'plaque', 'chris', 'memory', 'special', 'mass', 'said', 'thursday', 'gruhn', 'children', 'known', 'agnes', 'michelle', 'gruhn', 'seventh', 'grade', 'susan', 'sixth', 'christine', 'youngest', 'second', 'christopher', 'gruhn', 'passed', 'admissions', 'test', 'agnes', 'high', 'school', 'year', 'practically', 'student', 'school', 'knows', 'gruhn', 'principal', 'upset', 'murder', 'accompany', 'chief', 'security', 'round', 'classes', 'today', 'room', 'glaubinger', 'gave', 'pupils', 'safety', 'tips', 'public', 'bathroom', 'said', 'especially', 'place', 'like', 'movie', 'happened', 'hear', 'watching', 'movie', 'told', 'things', 'heard', 'important', 'today', 'walk', 'talk', 'strangers', 'asking', 'directions', 'hitchhike', 'pupil', 'sees', 'suspicious', 'license', 'plate', 'car', 'glaubinger', 'said', 'color', 'won', 'police', 'hot', 'line', 'set', 'hear', 'bad', 'people', 'talking', 'murder', 'said', 'immediately', 'police', 'homicide', 'hot', 'line', 'agnes', 'children', 'wrote', 'phone', 'number', 'notebooks', 'covers', 'religion', 'texts', 'girl', 'sitting', 'room', 'wrote', 'copy', 'kill', 'mockingbird', 'raised', 'hands', 'glaubinger', 'talk', 'wondered', 'police', 'knew', 'question', 'glaubinger', 'answer', 'said', 'morning', 'agnes', 'crying', 'hard', 'permitted', 'office', 'adults', 'school', 'different', 'way', 'speak', 'students', 'happened', 'principal', 'met', 'small', 'groups', 'privately', 'office', 'school', 'nurse', 'doreen', 'mount', 'handled', 'children', 'time', 'telling', 'upset', 'dialing', 'wrong', 'numbers', 'day', 'late', 'morning', 'joseph', 'mccomisky', 'father', 'joe', 'came', 'church', 'door', 'quiet', 'talk', 'classes', 'glaubinger', 'head', 'diocese', 'security', 'years', 'tried', 'stern', 'probably', 'brutal', 'crime', 'long', 'island', 'right', 'told', 'class', 'tell', 'brutal', 'associated', 'end', 'speech', 'security', 'chief', 'suggested', 'maybe', 'prayer']\n",
      "1 ['new', 'chinese', 'restaurants', 'southwestern', 'connecticut', 'tended', 'recent', 'years', 'like', 'offshoots', 'similar', 'dishes', 'menus', 'look', 'printed', 'place', 'hunan', 'wok', 'newcomer', 'months', 'stamford', 'scene', 'antecedents', 'long', 'island', 'menu', 'familiar', 'dishes', 'different', 'preparation', 'varies', 'certain', 'dishes', 'prices', 'similar', 'local', 'chinese', 'restaurants', 'portions', 'half', 'large', 'single', 'entree', 'ordered', 'soup', 'appetizer', 'easily', 'serve', 'entrees', 'diners', 'pleasing', 'touches', 'small', 'shaped', 'dining', 'room', 'round', 'rice', 'paper', 'lanterns', 'bamboo', 'decorations', 'painted', 'elaborate', 'wood', 'glass', 'painted', 'screens', 'large', 'chinesestyle', 'mural', 'sampling', 'appetizers', 'try', 'honeyed', 'hunan', 'spareribs', 'pleasant', 'variation', 'familiar', 'sparerib', 'scene', 'meaty', 'ribs', 'fried', 'dumplings', 'jao', 'tzes', 'large', 'finely', 'minced', 'port', 'scallion', 'ginger', 'filling', 'cold', 'hacked', 'chicken', 'supposedly', 'spicy', 'dish', 'bland', 'noticed', 'general', 'red', 'starred', 'hot', 'spicy', 'dishes', 'mildly', 'spiced', 'want', 'real', 'request', 'hot', 'sour', 'soup', 'instance', 'lush', 'clouds', 'ears', 'tofu', 'pork', 'strips', 'acceptable', 'hot', 'appreciably', 'sour', 'certain', 'dishes', 'especially', 'commendable', 'grades', 'general', 'ching', 'chicken', 'ping', 'ling', 'hot', 'sauce', 'sauce', 'alarm', 'tingle', 'large', 'boneless', 'chunks', 'chicken', 'mixed', 'sweet', 'red', 'peppers', 'scallions', 'water', 'chestnuts', 'red', 'hot', 'pepper', 'pods', 'choice', 'tender', 'hunan', 'beef', 'generously', 'dotted', 'straw', 'mushrooms', 'watercress', 'snowpeas', 'rate', 'dish', 'chef', 'special', 'bean', 'curd', 'proved', 'large', 'chunks', 'tofu', 'succulent', 'pork', 'shreds', 'black', 'beans', 'scallions', 'fortuitous', 'combination', 'lightly', 'cooked', 'delicious', 'sliced', 'lamb', 'combined', 'oyster', 'mushrooms', 'dente', 'broccoli', 'flowers', 'fine', 'selection', 'appreciated', 'fact', 'plates', 'warmed', 'serving', 'waitress', 'asked', 'order', 'wanted', 'entrees', 'served', 'instead', 'simply', 'bringing', 'simultaneously', 'causing', 'cool', 'finished', 'covers', 'better', 'dish', 'arrived', 'table', 'sizzling', 'hot', 'teapots', 'replenished', 'quickly', 'people', 'dine', 'agreeably', 'hunan', 'wok', 'having', 'appetizers', 'shared', 'entree', 'dessert', 'drinks', 'tax', 'tip', 'extra', 'carte', 'optimism', 'indicated', 'restaurateurs', 'opening', 'new', 'places', 'weekly', 'sanguine', 'reality', 'noted', 'old', 'standby', 'disappeared', 'recent', 'months', 'honiss', 'oyster', 'house', 'hartford', 'long', 'familiar', 'downtown', 'area', 'inconsistency', 'fundamental', 'problem', 'makes', 'special', 'pleasure', 'restaurants', 'conquered', 'bete', 'noire', 'roger', 'sherman', 'inn', 'new', 'canaan', 'reviewed', 'years', 'ago', 'page', 'continues', 'despite', 'change', 'chefs', 'years', 'ago', 'reliable', 'star', 'choice', 'hunan', 'wok', 'summer', 'street', 'stamford', 'atmosphere', 'simple', 'shaped', 'dining', 'room', 'augmented', 'screens', 'original', 'mural', 'ricepaper', 'lanterns', 'service', 'helpful', 'efficient', 'cheerful', 'recommended', 'dishes', 'honeyed', 'hunan', 'spareribs', 'fried', 'dumplings', 'hunan', 'beef', 'sliced', 'lamb', 'oyster', 'mushrooms', 'general', 'ching', 'chicken', 'chef', 'special', 'bean', 'curd', 'hours', 'lunch', 'dinner', 'daily', 'prices', 'lunch', 'special', 'includes', 'soup', 'choice', 'entree', 'dinner', 'entrees', 'credit', 'cards', 'accepted', 'american', 'express', 'visa', 'mastercard', 'reservations', 'recommended', 'attire', 'informal', 'stars', 'mean', 'poor', 'fair', 'good', 'good', 'excellent', 'extraordinary', 'ratings', 'based', 'reviewer', 'reaction', 'food', 'price', 'relation', 'comparable', 'establishments']\n",
      "83957 ['heavy', 'rains', 'high', 'winds', 'brought', 'flooding', 'traffic', 'jams', 'utter', 'irritation', 'yesterday', 'sodden', 'metropolitan', 'area', 'downpour', 'measured', 'inches', 'pelted', 'land', 'rivers', 'saturated', 'swollen', 'unusually', 'heavy', 'rainfall', 'weeks', 'yesterday', 'inches', 'rain', 'fallen', 'month', 'new', 'york', 'city', 'city', 'normal', 'rainfall', 'march', 'inches', 'record', 'month', 'inches', 'set', 'national', 'weather', 'service', 'issued', 'flood', 'warnings', 'watches', 'new', 'jersey', 'connecticut', 'westchester', 'rockland', 'counties', 'new', 'york', 'state', 'house', 'burns', 'jersey', 'rivers', 'northern', 'new', 'jersey', 'overflowed', 'banks', 'flooding', 'homes', 'major', 'roads', 'house', 'burned', 'sunday', 'lincoln', 'park', 'company', 'way', 'blaze', 'cross', 'flooded', 'highway', 'injuries', 'communities', 'connecticut', 'called', 'sandbags', 'state', 'disaster', 'officials', 'anticipating', 'rivers', 'crest', 'flood', 'stage', 'traffic', 'crept', 'splashed', 'manhattan', 'directions', 'flooding', 'roads', 'combined', 'increase', 'traffic', 'strikes', 'commuter', 'railroads', 'transit', 'metro', 'north', 'going', 'slower', 'usual', 'rain', 'increase', 'city', 'water', 'supply', 'march', 'rains', 'pushed', 'level', 'reservoir', 'percent', 'capacity', 'increase', 'billion', 'gallons', 'according', 'andrew', 'mccarthy', 'spokesman', 'city', 'department', 'environmental', 'protection', 'normal', 'level', 'time', 'year', 'percent', 'according', 'department', 'miserable', 'month', 'commuters', 'today', 'storm', 'better', 'friday', 'mccarthy', 'said', 'things', 'continue', 'good', 'going', 'able', 'drought', 'watch', 'end', 'month', 'drought', 'watch', 'residents', 'asked', 'conserve', 'water', 'voluntarily', 'commuters', 'waiting', 'buses', 'instead', 'usual', 'trains', 'got', 'drenched', 'miserable', 'march', 'getting', 'rained', 'weeks', 'said', 'cary', 'miller', 'media', 'supervisor', 'marschalk', 'company', 'advertising', 'concern', 'usually', 'commutes', 'rail', 'westfield', 'asked', 'felt', 'plight', 'miller', 'said', 'wet', 'wringing', 'morning', 'car', 'died', 'said', 'push', 'home', 'rain', 'finally', 'got', 'path', 'jersey', 'city', 'got', 'splashed', 'cars', 'journal', 'square', 'wringing', 'judy', 'montgomery', 'assistant', 'executive', 'director', 'leukemia', 'society', 'america', 'said', 'stood', 'rain', 'minutes', 'waiting', 'bus', 'new', 'brunswick', 'adds', 'insult', 'injury', 'said', 'weather', 'amid', 'rail', 'strike', 'uncertainty', 'continued', 'yesterday', 'families', 'pequannock', 'township', 'wayne', 'oakland', 'new', 'jersey', 'evacuated', 'homes', 'boat', 'pompton', 'ramapo', 'rivers', 'flooded', 'sunday', 'flooding', 'route', 'waters', 'began', 'recede', 'early', 'yesterday', 'local', 'civil', 'defense', 'workers', 'said', 'began', 'rise', 'new', 'rain', 'probably', 'worst', 'flooding', 'past', 'years', 'said', 'thomas', 'mullaney', 'civil', 'defense', 'director', 'pequannock', 'township', 'morris', 'county', 'bergen', 'county', 'police', 'reported', 'flooding', 'route', 'south', 'hackensack', 'route', 'rutherford', 'east', 'rutherford', 'route', 'mahwah', 'carl', 'koenig', 'county', 'civil', 'defense', 'director', 'said', 'flooding', 'residential', 'minor', 'roads', 'prolific', 'common', 'connecticut', 'niantic', 'farmington', 'rivers', 'flowed', 'banks', 'yesterday', 'flooding', 'highways', 'homes', 'norwich', 'farmington', 'avon', 'simsbury', 'said', 'frank', 'mancuso', 'director', 'state', 'department', 'civil', 'preparedness', 'flooding', 'harlem', 'river', 'drive', 'connecticut', 'housatonic', 'rivers', 'flood', 'levels', 'rising', 'said', 'minor', 'flooding', 'reported', 'danbury', 'ansonia', 'oxford', 'derby', 'portland', 'route', 'closed', 'mayor', 'rado', 'naugatuck', 'seven', 'bridges', 'damaged', 'destroyed', 'naugatuck', 'river', 'flooded', 'june', 'received', 'sandbags', 'state', 'yesterday', 'cars', 'usual', 'entered', 'new', 'york', 'city', 'northern', 'suburbs', 'rail', 'strikes', 'according', 'bureau', 'traffic', 'motorists', 'harlem', 'river', 'drive', 'flooded', 'near', 'george', 'washington', 'bridge', 'said', 'victor', 'ross', 'bureau', 'spokesman', 'helped', 'pontoons', 'ross', 'said']\n",
      " stats about Corpus read from file\n",
      "Number of words in corpus: 21562983\n",
      "Number of sentences in corpus: 83957\n"
     ]
    },
    {
     "name": "stdout",
     "output_type": "stream",
     "text": [
      "Computing time for training the model:96.13812279701233 seconds\n",
      "Number of words processed per second: 224291.7000317184\n",
      "Word2Vec(vocab=82695, size=300, alpha=0.025)\n",
      "Most frequent words In model:  ['said', 'new', 'year', 'years', 'percent', 'million', 'york', 'president', 'state', 'time']\n",
      " similarity evaluation: ((0.5611929177337013, 2.8497407633005855e-29), SpearmanrResult(correlation=0.5917034200198885, pvalue=4.066290246953666e-33), 4.815864022662889)\n",
      "----------------------------------------------------\n",
      "starting the processing of 1982\n",
      "Reading Corpus file and preprocessing time:59.27297115325928 seconds\n",
      " printing Top 2 and last sentences For sanity check\n",
      "0 ['years', 'martha', 'badger', 'lived', 'area', 'queens', 'called', 'crescents', 'burglaries', 'near', 'years', 'ago', 'blocks', 'away', 'second', 'closer', 'time', 'place', 'occurred', 'month', 'street', 'kicked', 'door', 'said', 'shudder', 'looking', 'door', 'hard', 'think', 'crescents', 'high', 'crime', 'area', 'said', 'capt', 'william', 'pirro', 'precinct', 'certainly', 'share', 'said', 'burglaries', 'year', 'family', 'community', 'takes', 'section', 'streets', 'curve', 'concentric', 'half', 'moons', 'far', 'robberies', 'year', 'robberies', 'result', 'patrol', 'robberies', 'violent', 'galvanize', 'families', 'starting', 'citizens', 'crime', 'patrol', 'month', 'community', 'area', 'homes', 'single', 'family', 'fairly', 'affluent', 'area', 'said', 'howard', 'katz', 'president', 'forest', 'hills', 'crescents', 'civic', 'association', 'crime', 'mobile', 'goes', 'money', 'having', 'crime', 'years', 'said', 'woman', 'lives', 'cromwell', 'crescent', 'like', 'want', 'identified', 'fear', 'reprisal', 'gathered', 'intensity', 'like', 'jan', 'middle', 'aged', 'woman', 'robbed', 'seriously', 'beaten', 'home', 'know', 'left', 'door', 'unlocked', 'shoveling', 'snow', 'walked', 'captain', 'pirro', 'said', 'surprised', 'pushed', 'entered', 'house', 'able', 'talk', 'coma', 'patrols', 'carrying', 'radios', 'police', 'department', 'instructions', 'civilian', 'patrols', 'members', 'carry', 'firearms', 'strict', 'avoiding', 'personal', 'confrontations', 'residents', 'patrol', 'cars', 'hour', 'shifts', 'day', 'citizens', 'band', 'radios', 'walkietalkies', 'contact', 'command', 'station', 'moves', 'day', 'different', 'house', 'watch', 'suspicious', 'looking', 'people', 'record', 'license', 'numbers', 'cars', 'recognize', 'passing', 'information', 'command', 'station', 'relays', 'precinct', 'headquarters', 'katz', 'said', 'trying', 'year', 'patrol', 'started', 'earlier', 'effort', 'died', 'years', 'ago', 'people', 'willing', 'involved', 'happens', 'said', 'people', 'terrible', 'kitty', 'genovese', 'character', 'look', 'way', 'horrible', 'sociological', 'phenomenon', 'robberies', 'increasingly', 'violent', 'fear', 'crime', 'close', 'individual', 'homeowners', 'added', 'people', 'apartments', 'pick', 'run', 'mrs', 'badger', 'said', 'husband', 'joined', 'patrol', 'fallen', 'love', 'neighborhood', 'like', 'small', 'town', 'homes', 'change', 'hands', 'want', 'getting', 'control', 'decision', 'establish', 'patrol', 'came', 'december', 'driveway', 'robberies', 'came', 'new', 'violent', 'katz', 'said', 'actually', 'pistol', 'whipped', 'individuals', 'able', 'away', 'flagrant', 'violations', 'talking', 'personal', 'confrontations', 'sawed', 'shotguns', 'automatic', 'pistols', 'said', 'people', 'accosted', 'driveways', 'leaving', 'cars', 'coming', 'home', 'imagine', 'fearful', 'emotions', 'gun', 'pointed', 'head', 'sawed', 'shotgun', 'chest', 'know', 'hair', 'away', 'death', 'ring', 'broken', 'captain', 'pirro', 'said', 'driveway', 'robberies', 'fairly', 'vicious', 'probably', 'carried', 'ring', 'queens', 'central', 'robbery', 'division', 'arrested', 'number', 'said', 'heard', 'crescents', 'beginning', 'year', 'woman', 'cromwell', 'crescent', 'said', 'husband', 'sons', 'participate', 'patrols', 'equate', 'shoveling', 'snow', 'said', 'certain', 'things', 'live', 'gilded', 'cage', 'gilded', 'broken', 'article', 'continuing', 'inquiry', 'crime', 'new', 'york', 'impact', 'ways', 'life', 'city', 'suburbs', 'handling', 'police', 'prosecutors', 'courts']\n",
      "1 ['stipanovich', 'leads', 'missouri', 'past', 'kansas', 'state', 'manhattan', 'kan', 'jan', 'upi', 'steve', 'stipanovich', 'scored', 'game', 'high', 'points', 'second', 'half', 'today', 'rally', 'rated', 'unbeaten', 'missouri', 'big', 'victory', 'kansas', 'state', 'stipanovich', 'capitalized', 'foul', 'problems', 'inexperience', 'kansas', 'state', 'pivot', 'second', 'half', 'help', 'missouri', 'post', 'best', 'start', 'years', 'basketball', 'tigers', 'opened', 'seasons', 'time', 'lost', 'final', 'game', 'kansas', 'state', 'kansas', 'state', 'remained', 'point', 'missouri', 'halftime', 'strength', 'zone', 'defense', 'guard', 'jon', 'sundvold', 'forced', 'wildcats', 'shift', 'man', 'man', 'defense', 'hitting', 'shots', 'feet', 'opening', 'minutes', 'second', 'half', 'missouri', 'took', 'lead', 'les', 'craft', 'kansas', 'state', 'center', 'got', 'fourth', 'foul', 'minutes', 'second', 'left', 'replaced', 'freshman', 'neal', 'degner', 'stipanovich', 'scored', 'points', 'seconds', 'help', 'missouri', 'open', 'lead', 'minutes', 'remaining', 'ricky', 'frazier', 'entered', 'game', 'point', 'scoring', 'average', 'picked', 'second', 'field', 'goal', 'play', 'missouri', 'lead', 'tigers', 'allowed', 'kansas', 'state', 'game', 'missing', 'end', 'straight', 'oneand', 'free', 'throw', 'chances', 'strength', 'team', 'said', 'coach', 'norm', 'stewart', 'missouri', 'somebody', 'game', 'somebody', 'pick', 'starters', 'point', 'night', 'season', 'seven', 'guys', 'score', 'game', 'kansas', 'state', 'scored', 'straight', 'points', 'span', 'tyrone', 'adams', 'pulled', 'wildcats', 'pair', 'free', 'throws', 'seconds', 'left', 'slam', 'dunk', 'stipanovich', 'court', 'lob', 'gave', 'missouri', 'lead', 'seconds', 'later', 'sundvold', 'added', 'points', 'michael', 'walker', 'came', 'bench', 'score', 'missouri', 'nation', 'unb', 'eat', 'team', 'improved', 'conference', 'record', 'lead', 'half', 'games', 'kansas', 'state', 'randy', 'reed', 'scored', 'points', 'nealy', 'jankovich', 'kansas', 'state', 'game', 'home', 'winning', 'streak', 'ended', 'wildcats', 'big', 'kansas', 'oklahoma', 'lawrence', 'kan', 'upi', 'tony', 'guy', 'scored', 'points', 'lift', 'kansas', 'big', 'victory', 'guy', 'scored', 'points', 'second', 'half', 'kansas', 'won', 'game', 'row', 'improve', 'record', 'overall', 'conference', 'oklahoma', 'fell', 'big', 'iowa', 'ohio', 'state', 'iowa', 'city', 'upi', 'mark', 'gannon', 'junior', 'forward', 'scored', 'careerhigh', 'points', 'lead', 'iowa', 'iowa', 'broke', 'game', 'home', 'losing', 'streak', 'ohio', 'state', 'haw', 'keyes', 'conference', 'play', 'lead', 'big', 'ohio', 'state', 'dropped', 'minnesota', 'indiana', 'bloomington', 'ind', 'darryl', 'mitchell', 'scored', 'points', 'minnesota', 'turned', 'second', 'half', 'rally', 'randy', 'breuer', 'gophers', 'foot', 'center', 'points', 'half', 'minnesota', 'starters', 'double', 'figures', 'minnesota', 'breaking', 'tie', 'hoosiers', 'second', 'place', 'big', 'trailed', 'illinois', 'michigan', 'champaign', 'ill', 'craig', 'tucker', 'broke', 'game', 'shooting', 'slump', 'scoring', 'points', 'lead', 'illinois', 'tucker', 'total', 'highest', 'season', 'big', 'play', 'illinois', 'rolled', 'straight', 'conference', 'victory', 'illinois', 'michigan', 'dropped', 'purdue', 'wisconsin', 'west', 'lafayette', 'ind', 'upi', 'keith', 'edmonson', 'scored', 'points', 'half', 'free', 'throws', 'lead', 'purdue', 'big', 'victory', 'purdue', 'big', 'wisconsin', 'purdue', 'leads', 'large', 'points', 'late', 'game', 'purdue', 'went', 'ahead', 'stay', 'straight', 'points', 'minute', 'early', 'half', 'pull', 'trailing', 'marquette', 'notre', 'dame', 'south', 'bend', 'ind', 'marquette', 'warriors', 'led', 'dean', 'marquardt', 'terrell', 'schlundt', 'glenn', 'rivers', 'hit', 'field', 'goal', 'attempts', 'routed', 'notre', 'dame', 'notre', 'dame', 'unable', 'match', 'marquette', 'speed', 'inside', 'strength', 'led', 'briefly', 'opening', 'minutes', 'game', 'baskets', 'schlundt', 'rivers', 'gave', 'warriors', 'lead', 'notre', 'dame', 'mike', 'mitchell', 'tied', 'game', 'irish', 'held', 'scoreless', 'minute', 'stretch']\n",
      "84422 ['rangers', 'scoring', 'lot', 'goals', 'recently', 'tonight', 'scoring', 'bursts', 'subdue', 'pittsburgh', 'penguins', 'straight', 'game', 'new', 'york', 'scored', 'goals', 'addition', 'victory', 'extended', 'club', 'unbeaten', 'streak', 'games', 'rangers', 'took', 'command', 'rapidly', 'goals', 'game', 'minutes', 'seconds', 'coach', 'herb', 'brooks', 'nervous', 'concerned', 'players', 'letdown', 'surprising', 'game', 'like', 'turn', 'way', 'said', 'substantial', 'early', 'lead', 'makes', 'team', 'careless', 'defense', 'hoping', 'game', 'wouldn', 'shootout', 'maybe', 'score', 'team', 'short', 'end', 'fears', 'groundless', 'fears', 'groundless', 'lead', 'end', 'period', 'new', 'york', 'scored', 'times', 'minutes', 'second', 'period', 'goals', 'period', 'scored', 'seconds', 'leaving', 'rangers', 'seconds', 'short', 'league', 'mark', 'set', 'washington', 'years', 'ago', 'scoring', 'goals', 'start', 'period', 'think', 'begun', 'said', 'brooks', 'strongly', 'emphasizes', 'rhythm', 'motion', 'coaching', 'passes', 'tonight', 'snappy', 'transitions', 'definitely', 'high', 'quality', 'victory', 'rangers', 'points', 'ahead', 'flyers', 'race', 'second', 'place', 'patrick', 'division', 'hit', 'whirlwind', 'said', 'coach', 'eddie', 'johnston', 'penguins', 'weren', 'ready', 'come', 'day', 'trip', 'coast', 'johnstone', 'maloney', 'rangers', 'thrived', 'assists', 'johnstone', 'gave', 'rangers', 'initial', 'momentum', 'gary', 'edwards', 'filling', 'net', 'resting', 'michel', 'dion', 'barely', 'fingers', 'heavy', 'gloves', 'ranger', 'wing', 'sent', 'shot', 'whistling', 'past', 'right', 'leg', 'seconds', 'play', 'little', 'reason', 'cheer', 'tallies', 'maloney', 'power', 'play', 'mikko', 'leinonen', 'soon', 'followed', 'quiet', 'crowd', 'civic', 'arena', 'got', 'reason', 'cheering', 'period', 'penguins', 'gregg', 'sheppard', 'got', 'footer', 'mio', 'left', 'arm', 'team', 'tallied', 'rest', 'opening', 'period', 'lull', 'temporary', 'fourteen', 'seconds', 'start', 'second', 'period', 'johnstone', 'registered', 'second', 'goal', 'mike', 'rogers', 'produced', 'new', 'york', 'fifth', 'goal', 'seconds', 'later', 'maloney', 'registered', 'usually', 'optimistic', 'johnston', 'deflated', 'hoped', 'cut', 'rangers', 'lead', 'goals', 'period', 'come', 'said', 'penguins', 'coach', 'went', 'racked', 'ready', 'chalk', 'night', 'losing', 'penguins', 'second', 'goal', 'rick', 'kehoe', 'second', 'session', 'team', 'score', 'power', 'play', 'goals', 'seasons', 'years', 'row', 'hawerchuk', 'gets', 'winnipeg', 'manitoba', 'upi', 'bengt', 'lundholm', 'scored', 'game', 'winner', 'dale', 'hawerchuk', 'registered', 'point', 'lead', 'winnipeg', 'victory', 'los', 'angeles', 'kings', 'extending', 'jets', 'winning', 'streak', 'games', 'hawerchuk', 'scored', 'seconds', 'remaining', 'goals', 'points', 'season', 'making', 'rookie', 'league', 'history', 'score', 'goals', 'points', 'season']\n",
      " stats about Corpus read from file\n",
      "Number of words in corpus: 21915864\n",
      "Number of sentences in corpus: 84422\n"
     ]
    },
    {
     "name": "stdout",
     "output_type": "stream",
     "text": [
      "Computing time for training the model:97.46725821495056 seconds\n",
      "Number of words processed per second: 224853.6011105144\n",
      "Word2Vec(vocab=84564, size=300, alpha=0.025)\n",
      "Most frequent words In model:  ['said', 'new', 'year', 'years', 'percent', 'president', 'state', 'york', 'million', 'time']\n",
      " similarity evaluation: ((0.6002562361039608, 2.2839067883364727e-34), SpearmanrResult(correlation=0.6123652795100302, pvalue=4.5801935352469934e-36), 4.53257790368272)\n",
      "----------------------------------------------------\n",
      "starting the processing of 1981\n",
      "Reading Corpus file and preprocessing time:60.480207204818726 seconds\n",
      " printing Top 2 and last sentences For sanity check\n",
      "0 ['saudi', 'arabia', 'minister', 'oil', 'said', 'yesterday', 'country', 'considered', 'israel', 'immediate', 'threat', 'soviet', 'union', 'sheik', 'ahmed', 'zaki', 'yamani', 'told', 'standing', 'room', 'audience', 'plaza', 'hotel', 'saudi', 'arabia', 'faced', 'threats', 'international', 'communism', 'israel', 'said', 'threat', 'bolstered', 'saudi', 'ties', 'united', 'states', 'israel', 'threat', 'friendship', 'second', 'far', 'tangible', 'evidence', 'actual', 'danger', 'obviously', 'worse', 'potential', 'danger', 'said', 'visit', 'saudi', 'arabia', 'earlier', 'month', 'secretary', 'state', 'alexander', 'haig', 'tried', 'persuade', 'saudis', 'israel', 'saudi', 'arabia', 'aside', 'differences', 'strategic', 'consensus', 'perceived', 'threat', 'soviet', 'union', 'sheik', 'yamani', 'speech', 'sponsored', 'foreign', 'policy', 'association', 'attended', 'oil', 'executives', 'analysts', 'connections', 'petroleum', 'industry', 'laughter', 'anti', 'israel', 'joke', 'petroleum', 'minister', 'anti', 'israel', 'remarks', 'greeted', 'applause', 'general', 'laughter', 'related', 'joke', 'anti', 'israel', 'message', 'involved', 'bedouin', 'lost', 'son', 'desert', 'bedouin', 'vowed', 'god', 'son', 'saved', 'sell', 'camel', 'worth', 'riyals', 'fellow', 'villagers', 'riyal', 'son', 'bedouin', 'evade', 'vow', 'attached', 'condition', 'sale', 'tied', 'little', 'mouse', 'camel', 'tail', 'declared', 'sell', 'camel', 'riyal', 'mouse', 'riyals', 'sold', 'indivisible', 'transaction', 'sheik', 'yamani', 'said', 'camel', 'mouse', 'israel', 'price', 'tag', 'attached', 'mouse', 'case', 'prohibitive', 'legendary', 'bedouin', 'case', 'sheik', 'yamani', 'describing', 'speech', 'heart', 'heart', 'talk', 'said', 'saudi', 'arabia', 'friendship', 'united', 'states', 'tinged', 'bitterness', 'accordingly', 'effort', 'feelings', 'classes', 'saudis', 'depicted', 'opposed', 'israel', 'degree', 'said', 'saudis', 'ignorant', 'united', 'states', 'political', 'concluded', 'simply', 'america', 'hatred', 'moslems', 'makes', 'help', 'israel', 'seize', 'lands', 'expel', 'palestinean', 'nation', 'educated', 'saudis', 'said', 'aware', 'extent', 'powers', 'zionist', 'lobby', 'jewish', 'community', 'sheik', 'yamani', 'remarks', 'came', 'time', 'israel', 'protesting', 'decision', 'reagan', 'administration', 'sell', 'awacs', 'electronic', 'surveillance', 'planes', 'saudis', 'question', 'answer', 'session', 'sheik', 'yamani', 'said', 'certain', 'decision', 'reversed', 'adding', 'reason', 'israelis', 'making', 'issue', 'milk', 'united', 'states', 'described', 'israelis', 'potential', 'aggressors', 'want', 'monitor', 'movements', 'said', 'want', 'aggressive', 'want', 'attack', 'sheik', 'yamani', 'explaining', 'country', 'considered', 'israel', 'dangerous', 'soviet', 'union', 'said', 'united', 'states', 'aid', 'israel', 'destabilizing', 'region', 'enhanced', 'soviet', 'union', 'position', 'believe', 'russia', 'stands', 'gain', 'present', 'situation', 'israeli', 'policies', 'particularly', 'current', 'government', 'russian', 'policies', 'said', 'united', 'states', 'internal', 'political', 'pressures', 'refrains', 'performing', 'duty', 'bringing', 'peace', 'area', 'serves', 'russian', 'interests', 'detriment', 'interests', 'israel', 'oil', 'minister', 'speech', 'press', 'saudi', 'arabia', 'efforts', 'induce', 'organization', 'petroleum', 'exporting', 'countries', 'lower', 'prices', 'precondition', 'long', 'term', 'pricing', 'plan', 'kingdom', 'fighting', 'took', 'softer', 'line', 'earlier', 'week', 'insisted', 'opec', 'countries', 'lower', 'basic', 'price', 'present', 'level', 'saudi', 'price', 'oil', 'minister', 'said', 'yesterday', 'price', 'opec', 'oil', 'definitely', 'lower', 'specify', 'lower']\n",
      "1 ['edith', 'wilson', 'singer', 'actress', 'vaudeville', 'performer', 'decades', 'died', 'yesterday', 'age', 'miss', 'wilson', 'portrayed', 'aunt', 'jemima', 'quaker', 'oats', 'company', 'years', 'recording', 'long', 'career', 'sang', 'blues', 'jazz', 'appeared', 'actress', 'stage', 'radio', 'film', 'television', 'productions', 'best', 'known', 'radio', 'roles', 'kingfish', 'mother', 'law', 'radio', 'series', 'amos', 'andy', 'played', 'kingfish', 'girlfriend', 'television', 'miss', 'wilson', 'sang', 'duke', 'ellington', 'cotton', 'club', 'shows', 'new', 'york', 'toured', 'england', 'bojangles', 'robinson', 'memphis', 'bound', 'sang', 'big', 'bands', 'miss', 'wilson', 'fats', 'waller', 'louis', 'armstrong', 'sang', 'man', 'good', 'love', 'act', 'known', 'thousand', 'pounds', 'harmony', 'appeared', 'humphrey', 'bogart', 'miss', 'wilson', 'edith', 'woodall', 'started', 'vaudeville', 'singing', 'duet', 'friend', 'lena', 'wilson', 'later', 'married', 'lena', 'brother', 'danny', 'died', 'married', 'milliard', 'wilson', 'survives']\n",
      "86565 ['sam', 'church', 'president', 'united', 'workers', 'set', 'tomorrow', 'day', 'tour', 'eastern', 'coal', 'fields', 'effort', 'second', 'guess', 'militantly', 'independent', 'antimanagement', 'feelings', 'thousands', 'striking', 'appalachian', 'coal', 'miners', 'church', 'saturday', 'rank', 'file', 'vote', 'second', 'proposed', 'contract', 'agreement', 'bituminous', 'coal', 'operators', 'association', 'persuade', 'miners', 'accept', 'improved', 'industry', 'offer', 'strikers', 'idle', 'days', 'church', 'admits', 'mistake', 'months', 'ago', 'rushed', 'rank', 'file', 'settlement', 'proposal', 'limited', 'strike', 'days', 'contract', 'expired', 'march', 'time', 'said', 'hoped', 'better', 'breaking', 'year', 'cycle', 'walkouts', 'strike', 'agreement', 'resistance', 'appalachia', 'membership', 'particularly', 'union', 'appalachian', 'districts', 'voted', 'overwhelmingly', 'reject', 'pact', 'districts', 'church', 'itinerary', 'visits', 'time', 'previous', 'effort', 'feel', 'mood', 'rank', 'file', 'church', 'missed', 'mark', 'misjudgment', 'leading', 'rejection', 'new', 'agreement', 'unanimously', 'approved', 'union', 'member', 'bargaining', 'council', 'major', 'setback', 'concerned', 'membership', 'ratificaation', 'procedure', 'year', 'old', 'union', 'controlled', 'absolutely', 'john', 'lewis', 'adopted', 'sweeping', 'constitutional', 'reforms', 'pressed', 'movement', 'called', 'miners', 'democracy', 'dissidents', 'swept', 'corrupt', 'regime', 'boyle', 'elected', 'church', 'predecessor', 'arnold', 'miller', 'president', 'setback', 'miller', 'miller', 'bargaining', 'confrontation', 'coal', 'industry', 'membership', 'approved', 'later', 'proved', 'continually', 'contentious', 'strike', 'prone', 'contract', 'percent', 'later', 'troubles', 'ratification', 'process', 'began', 'day', 'miners', 'strike', 'years', 'ago', 'rank', 'file', 'bargaining', 'council', 'repeatedly', 'rejected', 'miller', 'efforts', 'win', 'approval', 'negotiated', 'settlement', 'background', 'determined', 'avoid', 'strike', 'possible', 'church', 'took', 'chances', 'ratification', 'march', 'lost', 'second', 'campaign', 'ratification', 'settlement', 'starting', 'tomorrow', 'morning', 'alabama', 'working', 'north', 'ohio', 'pennsylvania', 'favorable', 'omens', 'days', 'idleness', 'union', 'provides', 'strike', 'benefits', 'mines', 'overtime', 'schedules', 'pre', 'strike', 'hedge', 'build', 'coal', 'stockpiles', 'miners', 'financial', 'plight', 'steadily', 'increasing', 'offer', 'working', 'vacations', 'good', 'augury', 'new', 'settlement', 'said', 'contain', 'industry', 'concessions', 'appear', 'remove', 'items', 'march', 'agreement', 'brought', 'angry', 'rejection', 'bituminous', 'coal', 'operators', 'association', 'offering', 'miners', 'day', 'vacation', 'option', 'working', 'scheduled', 'vacation', 'weeks', 'summer', 'vacation', 'pay', 'work', 'time', 'pay', 'return', 'work', 'shift', 'strike', 'receive', 'bonus', 'factor', 'church', 'ebullient', 'mood', 'moment', 'year', 'old', 'union', 'leader', 'father', 'fourth', 'time', 'night', 'second', 'wife', 'patti', 'secretary', 'union', 'headquarters', 'bore', 'pound', 'ounce', 'boy', 'church', 'children', 'marriage', 'live', 'mother', 'baltimore', 'thursday', 'morning', 'final', 'bargaining', 'session', 'began', 'church', 'told', 'bobby', 'brown', 'president', 'consolidation', 'coal', 'company', 'industry', 'chief', 'negotiator', 'child', 'named', 'bobby', 'residue', 'enmity', 'mistrust', 'efforts', 'week', 'ahead', 'church', 'use', 'elements', 'financial', 'emotional', 'erosion', 'twomonth', 'strike', 'pitch', 'new', 'settlement', 'better', 'deal', 'political', 'magic', 'fatherhood', 'coal', 'field', 'areas', 'contention', 'strongest', 'appalachian', 'union', 'districts', 'membership', 'geared', 'strike', 'miners', 'rejected', 'proposed', 'contract', 'margins', 'time', 'miners', 'rocky', 'mountains', 'great', 'plains', 'states', 'illinois', 'indiana', 'tennessee', 'accepted', 'margins']\n",
      " stats about Corpus read from file\n",
      "Number of words in corpus: 22666056\n",
      "Number of sentences in corpus: 86565\n"
     ]
    },
    {
     "name": "stdout",
     "output_type": "stream",
     "text": [
      "Computing time for training the model:101.7693829536438 seconds\n",
      "Number of words processed per second: 222719.79393178047\n",
      "Word2Vec(vocab=85934, size=300, alpha=0.025)\n",
      "Most frequent words In model:  ['said', 'new', 'year', 'years', 'percent', 'president', 'york', 'million', 'state', 'time']\n",
      " similarity evaluation: ((0.588820297228682, 9.775371129377608e-33), SpearmanrResult(correlation=0.6070154987506634, pvalue=3.314366412352933e-35), 4.815864022662889)\n",
      "----------------------------------------------------\n"
     ]
    }
   ],
   "source": [
    "years = ['1984','1983','1982','1981']\n",
    "\n",
    "for year in years: \n",
    "    print(\"starting the processing of \" + year)\n",
    "    inputFilePath = os.path.join(inputPath, year+'.csv')\n",
    "    sentences = preprocessing(inputFilePath)\n",
    "    model = training(sentences)\n",
    "    #Discard parameters that are used in training and score. Use if you’re sure you’re done training a model.\n",
    "    #If replace_word_vectors_with_normalized is set, forget the original vectors and only keep \n",
    "    #the normalized ones = saves lots of memory!\n",
    "    model.delete_temporary_training_data(replace_word_vectors_with_normalized=False)   \n",
    "    # Evaluation\n",
    "    print(\" similarity evaluation:\", model.wv.evaluate_word_pairs('wordsim353.tsv', restrict_vocab=50000))\n",
    "    # Analogies\n",
    "    r = model.wv.accuracy('questions-words.txt', restrict_vocab=30000)\n",
    "    outputFilePath = os.path.join(outputPath, year)\n",
    "    model.save(outputFilePath) #binary=False saves the vectors as Textual data\n",
    "    print(\"----------------------------------------------------\")    "
   ]
  },
  {
   "cell_type": "code",
   "execution_count": null,
   "metadata": {},
   "outputs": [],
   "source": []
  },
  {
   "cell_type": "markdown",
   "metadata": {},
   "source": [
    "## Sanity check to make sure models have been saved"
   ]
  },
  {
   "cell_type": "code",
   "execution_count": 6,
   "metadata": {},
   "outputs": [
    {
     "name": "stderr",
     "output_type": "stream",
     "text": [
      "2018-10-15 11:55:10,585 : INFO : loading Word2Vec object from D:\\data\\nyt\\word2vecModels\\2002\n"
     ]
    },
    {
     "name": "stdout",
     "output_type": "stream",
     "text": [
      "2002\n"
     ]
    },
    {
     "name": "stderr",
     "output_type": "stream",
     "text": [
      "2018-10-15 11:55:11,227 : INFO : loading wv recursively from D:\\data\\nyt\\word2vecModels\\2002.wv.* with mmap=None\n",
      "2018-10-15 11:55:11,228 : INFO : loading vectors from D:\\data\\nyt\\word2vecModels\\2002.wv.vectors.npy with mmap=None\n",
      "2018-10-15 11:55:11,285 : INFO : setting ignored attribute vectors_norm to None\n",
      "2018-10-15 11:55:11,286 : INFO : loading vocabulary recursively from D:\\data\\nyt\\word2vecModels\\2002.vocabulary.* with mmap=None\n",
      "2018-10-15 11:55:11,287 : INFO : loading trainables recursively from D:\\data\\nyt\\word2vecModels\\2002.trainables.* with mmap=None\n",
      "2018-10-15 11:55:11,287 : INFO : setting ignored attribute cum_table to None\n",
      "2018-10-15 11:55:11,288 : INFO : loaded D:\\data\\nyt\\word2vecModels\\2002\n"
     ]
    },
    {
     "name": "stdout",
     "output_type": "stream",
     "text": [
      "Word2Vec(vocab=97437, size=300, alpha=0.025)\n"
     ]
    },
    {
     "data": {
      "text/plain": [
       "['said',\n",
       " 'new',\n",
       " 'year',\n",
       " 'like',\n",
       " 'people',\n",
       " 'time',\n",
       " 'years',\n",
       " 'company',\n",
       " 'york',\n",
       " 'percent']"
      ]
     },
     "execution_count": 6,
     "metadata": {},
     "output_type": "execute_result"
    }
   ],
   "source": [
    "#Sanity check to make sure models have been saved\n",
    "from gensim.models.word2vec import Word2Vec\n",
    "import gensim\n",
    "\n",
    "year = '2002'\n",
    "print(year)\n",
    "filePath = os.path.join(outputPath, year)\n",
    "model = gensim.models.Word2Vec.load(filePath) # you can continue training with the loaded model!\n",
    "print(model)\n",
    "model.wv.index2word[:10]"
   ]
  },
  {
   "cell_type": "code",
   "execution_count": 51,
   "metadata": {},
   "outputs": [
    {
     "name": "stderr",
     "output_type": "stream",
     "text": [
      "c:\\python3\\lib\\site-packages\\gensim\\matutils.py:737: FutureWarning: Conversion of the second argument of issubdtype from `int` to `np.signedinteger` is deprecated. In future, it will be treated as `np.int32 == np.dtype(int).type`.\n",
      "  if np.issubdtype(vec.dtype, np.int):\n"
     ]
    },
    {
     "data": {
      "text/plain": [
       "[('woman', 0.657943069934845),\n",
       " ('policeman', 0.5610487461090088),\n",
       " ('gentleman', 0.5473320484161377),\n",
       " ('men', 0.5011500120162964),\n",
       " ('guy', 0.4981834292411804),\n",
       " ('balding', 0.4937747120857239),\n",
       " ('gruff', 0.4927574396133423),\n",
       " ('assailant', 0.4926893711090088),\n",
       " ('drifter', 0.49006587266921997),\n",
       " ('lover', 0.4891093969345093)]"
      ]
     },
     "execution_count": 51,
     "metadata": {},
     "output_type": "execute_result"
    }
   ],
   "source": [
    "model.wv.most_similar('man')"
   ]
  },
  {
   "cell_type": "code",
   "execution_count": null,
   "metadata": {
    "collapsed": true
   },
   "outputs": [],
   "source": []
  },
  {
   "cell_type": "code",
   "execution_count": null,
   "metadata": {
    "collapsed": true
   },
   "outputs": [],
   "source": []
  },
  {
   "cell_type": "code",
   "execution_count": 3,
   "metadata": {
    "collapsed": true
   },
   "outputs": [],
   "source": [
    "def similarityMetricsAlternative(model):\n",
    "    #listDiversityTerms=['diversity', 'diverse']\n",
    "    listDiversityTerms=['diversity']\n",
    "    \n",
    "     \n",
    "    listDemographicsTermsUpdated=[w for w in listDemographicsTerms if w in model.wv.vocab]\n",
    "    listIntellectualTermsUpdated=[w for w in listIntellectualTerms if w in model.wv.vocab]\n",
    "    \n",
    "    similarityDemographics = model.wv.n_similarity(listDiversityTerms,listDemographicsTermsUpdated)\n",
    "    similarityIntellectual = model.wv.n_similarity(listDiversityTerms,listIntellectualTermsUpdated)\n",
    "    return (similarityDemographics,similarityIntellectual)"
   ]
  },
  {
   "cell_type": "code",
   "execution_count": 4,
   "metadata": {},
   "outputs": [
    {
     "data": {
      "text/plain": [
       "(0.3289945841610287, 0.09222000420760601)"
      ]
     },
     "execution_count": 4,
     "metadata": {},
     "output_type": "execute_result"
    }
   ],
   "source": [
    "from commonVariables import listDemographicsTerms, listIntellectualTerms\n",
    "similarityDemographics2, similarityIntellectual2= similarityMetricsAlternative(model)\n",
    "similarityDemographics2,similarityIntellectual2"
   ]
  },
  {
   "cell_type": "code",
   "execution_count": null,
   "metadata": {
    "collapsed": true
   },
   "outputs": [],
   "source": []
  }
 ],
 "metadata": {
  "kernelspec": {
   "display_name": "Python 3",
   "language": "python",
   "name": "python3"
  },
  "language_info": {
   "codemirror_mode": {
    "name": "ipython",
    "version": 3
   },
   "file_extension": ".py",
   "mimetype": "text/x-python",
   "name": "python",
   "nbconvert_exporter": "python",
   "pygments_lexer": "ipython3",
   "version": "3.6.4"
  }
 },
 "nbformat": 4,
 "nbformat_minor": 1
}
